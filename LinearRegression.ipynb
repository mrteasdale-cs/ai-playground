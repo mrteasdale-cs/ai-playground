{
 "cells": [
  {
   "cell_type": "markdown",
   "metadata": {
    "id": "dqCWu6GdC23q"
   },
   "source": [
    "## Import Libraries"
   ]
  },
  {
   "cell_type": "code",
   "metadata": {
    "id": "0BHVhAlEC23s",
    "ExecuteTime": {
     "end_time": "2025-04-29T01:02:20.583038Z",
     "start_time": "2025-04-29T01:02:18.417343Z"
    }
   },
   "source": [
    "import pandas as pd\n",
    "import numpy as np\n",
    "from matplotlib import pyplot as plt\n",
    "from sklearn import linear_model\n",
    "from sklearn.metrics import mean_squared_error, r2_score"
   ],
   "outputs": [],
   "execution_count": 1
  },
  {
   "cell_type": "markdown",
   "metadata": {
    "id": "WAeZcko9C23w"
   },
   "source": [
    "## Generate Dataset"
   ]
  },
  {
   "cell_type": "code",
   "metadata": {
    "id": "V-7KnIJmC23x",
    "ExecuteTime": {
     "end_time": "2025-04-29T01:02:28.019491Z",
     "start_time": "2025-04-29T01:02:28.012203Z"
    }
   },
   "source": [
    "# Fix the random seed to reproduce experiments\n",
    "np.random.seed(0)\n",
    "\n",
    "# Generate 100 independent values of Gaussian (normal) distribution with mean = 1.5, stddev = 2\n",
    "X = 2 * np.random.randn(100) + 1.5\n",
    "\n",
    "# Generate 100 independent Gaussian-distributed noise terms (mean = 0, stddev = 0.5)\n",
    "noise = 0.5 * np.random.randn(100)\n",
    "\n",
    "# Compute the outcomes using Y = mX + c + noise\n",
    "Y = 0.3*X + 2 + noise"
   ],
   "outputs": [],
   "execution_count": 2
  },
  {
   "cell_type": "markdown",
   "metadata": {
    "id": "i5g14qpMC23x"
   },
   "source": [
    "## Plot Dataset"
   ]
  },
  {
   "cell_type": "code",
   "metadata": {
    "id": "9jgwkkuOC23x",
    "outputId": "f8d89d7e-313c-429a-a0f9-1a4da913b6b2",
    "ExecuteTime": {
     "end_time": "2025-04-29T01:02:33.010627Z",
     "start_time": "2025-04-29T01:02:32.870379Z"
    }
   },
   "source": [
    "# Format the dataset into the tabular format\n",
    "df = pd.DataFrame(\n",
    "    {'X': X,\n",
    "     'Y': Y}\n",
    ")\n",
    "\n",
    "# Show the first 5 data points\n",
    "df.head()\n",
    "\n",
    "# Plot the scatter points of the dataset\n",
    "plt.scatter(df['X'], df['Y'], color='black')"
   ],
   "outputs": [
    {
     "data": {
      "text/plain": [
       "<matplotlib.collections.PathCollection at 0x1eb7f9d8560>"
      ]
     },
     "execution_count": 3,
     "metadata": {},
     "output_type": "execute_result"
    },
    {
     "data": {
      "text/plain": [
       "<Figure size 640x480 with 1 Axes>"
      ],
      "image/png": "[encoded data removed]"
     },
     "metadata": {},
     "output_type": "display_data"
    }
   ],
   "execution_count": 3
  },
  {
   "cell_type": "markdown",
   "metadata": {
    "id": "4MxZYE9TC23y"
   },
   "source": [
    "## Fit Linear Regression"
   ]
  },
  {
   "cell_type": "code",
   "metadata": {
    "id": "XEr7w1xNC23z",
    "outputId": "686b9ef6-eb52-4985-f29b-4f75ac6f9df6",
    "ExecuteTime": {
     "end_time": "2025-04-29T01:05:55.678230Z",
     "start_time": "2025-04-29T01:05:55.670269Z"
    }
   },
   "source": [
    "# Get the independent and dependent variables (x, y)\n",
    "(x, y) = (df.iloc[:,:-1], df.iloc[:,-1:])\n",
    "\n",
    "# Create a linear regression model\n",
    "regr = linear_model.LinearRegression()\n",
    "\n",
    "# Fit the model to the dataset\n",
    "regr.fit(x, y)\n",
    "\n",
    "coef = regr.coef_\n",
    "intercept = regr.intercept_\n",
    "# Display the model parameters\n",
    "print('Regression coefficients: %.2f' % coef.item())\n",
    "print('Intercept: %.2f' % intercept.item())\n"
   ],
   "outputs": [
    {
     "name": "stdout",
     "output_type": "stream",
     "text": [
      "Regression coefficients: 0.33\n",
      "Intercept: 1.99\n"
     ]
    }
   ],
   "execution_count": 9
  },
  {
   "cell_type": "markdown",
   "metadata": {
    "id": "YaXGoJBxC23z"
   },
   "source": [
    "## Plot Predictions"
   ]
  },
  {
   "cell_type": "code",
   "execution_count": null,
   "metadata": {
    "id": "8ezlrk0rC230",
    "outputId": "9f969759-3bf1-4348-c431-2e0e57623eac"
   },
   "outputs": [
    {
     "data": {
      "text/plain": [
       "[<matplotlib.lines.Line2D at 0x200a98c7188>]"
      ]
     },
     "execution_count": 13,
     "metadata": {},
     "output_type": "execute_result"
    },
    {
     "data": {
      "image/png": "[encoded data removed]",
      "text/plain": [
       "<Figure size 432x288 with 1 Axes>"
      ]
     },
     "metadata": {
      "needs_background": "light"
     },
     "output_type": "display_data"
    }
   ],
   "source": [
    "# Make predictions using the fit model\n",
    "y_pred = regr.predict(x)\n",
    "\n",
    "# Plot the results\n",
    "plt.scatter(x, y,  color='black')\n",
    "plt.plot(x, y_pred, color='blue', linewidth=3)"
   ]
  },
  {
   "cell_type": "markdown",
   "metadata": {
    "id": "pbINW_AWC231"
   },
   "source": [
    "## Analyse Performance"
   ]
  },
  {
   "cell_type": "code",
   "execution_count": null,
   "metadata": {
    "id": "QEUPO3bEC231",
    "outputId": "e6e8c6fd-5c0f-439a-ca45-cd54b10cb8c5"
   },
   "outputs": [
    {
     "name": "stdout",
     "output_type": "stream",
     "text": [
      "Mean squared error: 0.26\n",
      "R2 score: 0.62\n"
     ]
    }
   ],
   "source": [
    "print('Mean squared error: %.2f' % mean_squared_error(y, y_pred))\n",
    "print('R2 score: %.2f' % r2_score(y, y_pred))"
   ]
  }
 ],
 "metadata": {
  "kernelspec": {
   "display_name": "Python 3",
   "language": "python",
   "name": "python3"
  },
  "language_info": {
   "codemirror_mode": {
    "name": "ipython",
    "version": 3
   },
   "file_extension": ".py",
   "mimetype": "text/x-python",
   "name": "python",
   "nbconvert_exporter": "python",
   "pygments_lexer": "ipython3",
   "version": "3.7.10"
  },
  "colab": {
   "provenance": []
  }
 },
 "nbformat": 4,
 "nbformat_minor": 0
}
